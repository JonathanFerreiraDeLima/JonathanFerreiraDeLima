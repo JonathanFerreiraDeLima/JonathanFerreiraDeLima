{
  "nbformat": 4,
  "nbformat_minor": 0,
  "metadata": {
    "colab": {
      "provenance": [],
      "toc_visible": true,
      "authorship_tag": "ABX9TyM+CSYK3boA9OV9ullycuw+"
    },
    "kernelspec": {
      "name": "python3",
      "display_name": "Python 3"
    },
    "language_info": {
      "name": "python"
    }
  },
  "cells": [
    {
      "cell_type": "code",
      "source": [
        "def bissecao(f, a,b, epsilon, maxIter = 50):\n",
        "    \"\"\"Executa o método da bisseção para achar o zero de f no intervalo [a,b] com precisão epsilon.\n",
        "    O método executa no máximo (maxIter) 50 iterações.\n",
        "    Retorna uma tupla (houveErro, Raiz), onde houveErro é Booleano.\"\"\"\n",
        "    ## Inicializa as variáveis Fa e Fb com os valoes de f(a) e f(b), respectivamente.\n",
        "\n",
        "    Fa = f(a)\n",
        "    Fb = f(b)\n",
        "\n",
        "    ## Teste para saber se a função muda de sinal. Se não mudar, mostrar mensagem de erro\n",
        "    if Fa * Fb > 0:\n",
        "        print(\"Erro! A função não muda de sinal.\")\n",
        "        return(True, None)\n",
        "\n",
        "    ## Mostra na tela cabeçalho da tabela\n",
        "    print('k\\t a\\t\\t fa\\t\\t b\\t\\t fb\\t\\t x\\t\\t fx\\t\\tintervX')\n",
        "\n",
        "    ## Inicializa tamanha do intervalo de intervX usando a função abs, x e Fx\n",
        "\n",
        "    intervX = abs(b - a)\n",
        "    x = (a + b) / 2\n",
        "    Fx = f(x)\n",
        "\n",
        "    ## Mostra dados de inicialização\n",
        "    print('-\\t%e\\t%e\\t%e\\t%e\\t%e\\t%e\\t%e' % (a, Fa, b, Fb, x, Fx, intervX))\n",
        "\n",
        "    ## Teste se intervalo já é do tamanho da precisão e retorna a raiz sem erros\n",
        "    if (intervX <= epsilon):\n",
        "        return (False, x)\n",
        "\n",
        "    # Inicializar o k\n",
        "    k = 1\n",
        "\n",
        "    ## laço\n",
        "    while k <= maxIter:\n",
        "        ## Se a função não mudar de sinal entre a e x, então atualiza o a e Fa.\n",
        "        if Fa * Fx > 0:\n",
        "            a = x\n",
        "            Fa =Fx\n",
        "        ## Se não, atualiza o b e Fb\n",
        "        else:\n",
        "            b = x\n",
        "            Fb =Fx\n",
        "        ## Atualiza intervX ,x e Fx\n",
        "        intervX = abs(b - a)\n",
        "        x = (a + b) / 2\n",
        "        Fx = f(x)\n",
        "\n",
        "        ## Mostrar Valores na tela\n",
        "        print('%d\\t%e\\t%e\\t%e\\t%e\\t%e\\t%e\\t%e' % (k, a, Fa, b, Fb, x, Fx, intervX))\n",
        "\n",
        "        ## Teste de critério de parada (usando apenas o tamanho do intervalo)\n",
        "        if (intervX <= epsilon):\n",
        "            return (False, x)\n",
        "\n",
        "        ## Incrementa o K\n",
        "        k = k + 1\n",
        "\n",
        "## Se chegar aqui pe porque o número máximo de iterações foi atingido\n",
        "## Mostrar uma mensagem de erro e retorna que houve erro e a última raiz encontrada\n",
        "print('Erro! número máximo de iterações atingido.')\n",
        "\n"
      ],
      "metadata": {
        "colab": {
          "base_uri": "https://localhost:8080/"
        },
        "id": "2E38ypVtvEJk",
        "outputId": "88bffd57-38f9-4ff6-c037-3a1a9d76f2db"
      },
      "execution_count": 2,
      "outputs": [
        {
          "output_type": "stream",
          "name": "stdout",
          "text": [
            "Erro! número máximo de iterações atingido.\n"
          ]
        }
      ]
    },
    {
      "cell_type": "code",
      "source": [
        "def f(x):\n",
        "    return x**3 - 9*x + 3"
      ],
      "metadata": {
        "id": "4gShvdgAvKOe"
      },
      "execution_count": 3,
      "outputs": []
    },
    {
      "cell_type": "code",
      "source": [
        "print(f(0))"
      ],
      "metadata": {
        "colab": {
          "base_uri": "https://localhost:8080/"
        },
        "id": "5OOJqMe-vQDW",
        "outputId": "34ec846f-1318-4f0e-aeae-5a4fef389d3d"
      },
      "execution_count": 4,
      "outputs": [
        {
          "output_type": "stream",
          "name": "stdout",
          "text": [
            "3\n"
          ]
        }
      ]
    },
    {
      "cell_type": "code",
      "source": [
        "a = 0\n",
        "b = 1\n",
        "epsilon = 0.001\n",
        "maxIter = 20"
      ],
      "metadata": {
        "id": "j5kf6RoQvSw_"
      },
      "execution_count": 5,
      "outputs": []
    },
    {
      "cell_type": "code",
      "source": [
        "(houveErro, Raiz) = bissecao(f, a, b, epsilon, maxIter)"
      ],
      "metadata": {
        "colab": {
          "base_uri": "https://localhost:8080/"
        },
        "id": "Bq5kOIsEvY6U",
        "outputId": "fd25f370-4fe3-4881-ac72-50b2444ac683"
      },
      "execution_count": 6,
      "outputs": [
        {
          "output_type": "stream",
          "name": "stdout",
          "text": [
            "k\t a\t\t fa\t\t b\t\t fb\t\t x\t\t fx\t\tintervX\n",
            "-\t0.000000e+00\t3.000000e+00\t1.000000e+00\t-5.000000e+00\t5.000000e-01\t-1.375000e+00\t1.000000e+00\n",
            "1\t0.000000e+00\t3.000000e+00\t5.000000e-01\t-1.375000e+00\t2.500000e-01\t7.656250e-01\t5.000000e-01\n",
            "2\t2.500000e-01\t7.656250e-01\t5.000000e-01\t-1.375000e+00\t3.750000e-01\t-3.222656e-01\t2.500000e-01\n",
            "3\t2.500000e-01\t7.656250e-01\t3.750000e-01\t-3.222656e-01\t3.125000e-01\t2.180176e-01\t1.250000e-01\n",
            "4\t3.125000e-01\t2.180176e-01\t3.750000e-01\t-3.222656e-01\t3.437500e-01\t-5.313110e-02\t6.250000e-02\n",
            "5\t3.125000e-01\t2.180176e-01\t3.437500e-01\t-5.313110e-02\t3.281250e-01\t8.220291e-02\t3.125000e-02\n",
            "6\t3.281250e-01\t8.220291e-02\t3.437500e-01\t-5.313110e-02\t3.359375e-01\t1.447439e-02\t1.562500e-02\n",
            "7\t3.359375e-01\t1.447439e-02\t3.437500e-01\t-5.313110e-02\t3.398438e-01\t-1.934391e-02\t7.812500e-03\n",
            "8\t3.359375e-01\t1.447439e-02\t3.398438e-01\t-1.934391e-02\t3.378906e-01\t-2.438627e-03\t3.906250e-03\n",
            "9\t3.359375e-01\t1.447439e-02\t3.378906e-01\t-2.438627e-03\t3.369141e-01\t6.016918e-03\t1.953125e-03\n",
            "10\t3.369141e-01\t6.016918e-03\t3.378906e-01\t-2.438627e-03\t3.374023e-01\t1.788904e-03\t9.765625e-04\n"
          ]
        }
      ]
    },
    {
      "cell_type": "code",
      "source": [
        "if houveErro:\n",
        "    print('O Método da Bisseção retornou um erro.')\n",
        "if Raiz is not None:\n",
        "    print('Raiz encontrada: %s' % Raiz)"
      ],
      "metadata": {
        "colab": {
          "base_uri": "https://localhost:8080/"
        },
        "id": "vyEtb3Z8vaMO",
        "outputId": "d54d78e8-c58e-450b-e812-14532052e14c"
      },
      "execution_count": 7,
      "outputs": [
        {
          "output_type": "stream",
          "name": "stdout",
          "text": [
            "Raiz encontrada: 0.33740234375\n"
          ]
        }
      ]
    }
  ]
}